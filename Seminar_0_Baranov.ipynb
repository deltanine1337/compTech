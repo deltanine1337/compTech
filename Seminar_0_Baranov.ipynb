{
  "nbformat": 4,
  "nbformat_minor": 0,
  "metadata": {
    "colab": {
      "name": "Markdown.ipynb",
      "provenance": [],
      "collapsed_sections": []
    },
    "kernelspec": {
      "name": "python3",
      "display_name": "Python 3"
    }
  },
  "cells": [
    {
      "cell_type": "code",
      "metadata": {
        "id": "QXMGg2eh8BOA"
      },
      "source": [
        ""
      ],
      "execution_count": null,
      "outputs": []
    },
    {
      "cell_type": "markdown",
      "metadata": {
        "id": "gYogisQP8GXq"
      },
      "source": [
        "*italic Text*<br>\n",
        "**bold Text**<br>\n",
        "_another italic_<br>\n",
        "__another bold__<br>\n",
        "Header1\n",
        "==\n",
        "Header2\n",
        "--\n",
        "###Header3\n",
        "####Header4\n",
        "* First item\n",
        "  * Item in First\n",
        "* Second item\n",
        "1. Item1  \n",
        "  * Item1a  \n",
        "2. Item2    \n",
        "---\n",
        "Roses are red,  \n",
        "Violets are blue.  \n",
        "[Vkontakte](vk.com)  \n",
        "![image](https://i.pinimg.com/236x/4a/59/17/4a59172fc6d31c10bca6474c81eb34dc.jpg)  \n",
        "A friend once said:  \n",
        "  >It's always better to give\n",
        "  >than to recieve.  \n",
        "---\n",
        "```{r}\n",
        "summary(cars$dist)\n",
        "summary(cars$speed)\n",
        "```  \n",
        "There where `r nrow(cars)` cars studied  \n",
        "```\n",
        "This text is displayed verbatim/preformated\n",
        "```  \n",
        "We defined the 'add' function to\n",
        "computethe sum of two numbers.\n",
        "\n",
        "$20+5=25$  \n",
        "$g(y)=x^3+12x$  \n",
        "\\( 1+2 = 3 \\)  \n",
        "\n",
        "$$20+5=25$$  \n",
        "$$g(y)=x^3+12x$$  \n",
        "\\[ 1+2 = 3 \\]  \n",
        "****  \n",
        "----  \n",
        "Header1  |   Header2\n",
        "---------|----------\n",
        "Cell1    |   Cell2\n",
        "Cell4    |   Cell5  \n",
        "\n",
        "A [Vk][id].  \n",
        "![image with cat][id1]  \n",
        "superscript^2^  \n",
        "~~strikethrought~~\n",
        "  \n",
        "\n",
        "    \n",
        "\n",
        "\n",
        "\n",
        "\n",
        "\n",
        "\n",
        "\n",
        "\n",
        "\n",
        "[id]: vk.com \"Vkontakte\"  \n",
        "[id1]: https://i.pinimg.com/236x/4a/59/17/4a59172fc6d31c10bca6474c81eb34dc.jpg \"The Cat\""
      ]
    },
    {
      "cell_type": "markdown",
      "metadata": {
        "id": "qDZaY0TBCiXL"
      },
      "source": [
        ""
      ]
    },
    {
      "cell_type": "code",
      "metadata": {
        "id": "1-rpGbEiChC8"
      },
      "source": [
        ""
      ],
      "execution_count": null,
      "outputs": []
    }
  ]
}
